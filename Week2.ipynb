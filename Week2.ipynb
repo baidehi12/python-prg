{
 "cells": [
  {
   "cell_type": "markdown",
   "metadata": {},
   "source": [
    "<h4><center>Baidehi Basnet</center></h4>\n",
    "<h4><center>Presidential Graduate School, Kathmandu </center></h4>\n",
    "<h4><center>PRG 330: Python Programming with Data </center></h4>\n",
    "<h4><center> Prof. Tek Raj Pant </center></h4>\n",
    "<h4><center> November 3, 2024</center></h4>\n"
   ]
  },
  {
   "cell_type": "markdown",
   "metadata": {},
   "source": [
    "# For Loop\n",
    "Iterate over list, range (enumarator)\n"
   ]
  },
  {
   "cell_type": "code",
   "execution_count": 1,
   "metadata": {},
   "outputs": [
    {
     "name": "stdout",
     "output_type": "stream",
     "text": [
      "1\n",
      "1\n",
      "2\n",
      "3\n",
      "4\n",
      "5\n",
      "3\n",
      "11\n",
      "100\n"
     ]
    }
   ],
   "source": [
    "numbers = [1,1,2,3,4,5,3,11,100]\n",
    "\n",
    "even_list = []\n",
    "# iterate over list \n",
    "for num in numbers:\n",
    "    print (num)"
   ]
  },
  {
   "cell_type": "code",
   "execution_count": 5,
   "metadata": {},
   "outputs": [
    {
     "name": "stdout",
     "output_type": "stream",
     "text": [
      "2\n",
      "4\n",
      "100\n",
      "[2, 4, 100]\n",
      "[1, 1, 3, 5, 3, 1]\n",
      "2 exists in numbers\n"
     ]
    }
   ],
   "source": [
    "# To find the even and odd numbers from the given numbers\n",
    "\n",
    "numbers=[1,1,2,3,4,5,3,1,100]    #list of int\n",
    "even_list=[]\n",
    "odd_list=[]\n",
    "\n",
    "#iterate over list for num in numbers:\n",
    "for num in numbers:\n",
    "    if num % 2==0:\n",
    "       print (num)\n",
    "       even_list.append(num)\n",
    "    else:\n",
    "        odd_list.append(num)\n",
    "print(even_list)\n",
    "print(odd_list)\n",
    "\n",
    "if 2 in numbers: #check item exists in list\n",
    "    print('2 exists in numbers')"
   ]
  },
  {
   "cell_type": "code",
   "execution_count": 6,
   "metadata": {},
   "outputs": [
    {
     "name": "stdout",
     "output_type": "stream",
     "text": [
      "[1, 2, 3, 4, 5, 100, 7, 9]\n"
     ]
    }
   ],
   "source": [
    "# To create a list of unique numbers from the given list\n",
    "\n",
    "numbers=[1,1,2,3,4,5,3,1,100,2,4,7,9,100]    \n",
    "unique_num=[]\n",
    "\n",
    "for num in numbers:\n",
    "    if num not in unique_num:\n",
    "       unique_num.append(num)\n",
    "print(unique_num)"
   ]
  },
  {
   "cell_type": "code",
   "execution_count": 10,
   "metadata": {},
   "outputs": [
    {
     "name": "stdout",
     "output_type": "stream",
     "text": [
      "H\n",
      "e\n",
      "l\n",
      "l\n",
      "o\n",
      " \n",
      "W\n",
      "o\n",
      "r\n",
      "l\n",
      "d\n"
     ]
    }
   ],
   "source": [
    "# For loop in strings\n",
    "\n",
    "sentence = \"Hello World\"\n",
    "for char in sentence:\n",
    "    print (char)"
   ]
  },
  {
   "cell_type": "code",
   "execution_count": 12,
   "metadata": {},
   "outputs": [
    {
     "name": "stdout",
     "output_type": "stream",
     "text": [
      "6\n"
     ]
    }
   ],
   "source": [
    "# To count the total number of vowels in given string\n",
    "\n",
    "sentence = \"baidehi basnet\"\n",
    "vowels = \"a,e,i,o,u\"\n",
    "total_vowels = 0\n",
    "for char in sentence:\n",
    "    if char in vowels:\n",
    "        total_vowels +=1\n",
    "print (total_vowels)"
   ]
  },
  {
   "cell_type": "code",
   "execution_count": 13,
   "metadata": {},
   "outputs": [
    {
     "name": "stdout",
     "output_type": "stream",
     "text": [
      "8\n"
     ]
    }
   ],
   "source": [
    "# To print the total nummber of consonents\n",
    "\n",
    "sentence = \"baidehi basnet\"\n",
    "vowels = \"a,e,i,o,u\"\n",
    "total_vowels = 0\n",
    "for char in sentence:\n",
    "    if char not in vowels:\n",
    "        total_vowels +=1\n",
    "print (total_vowels)"
   ]
  },
  {
   "cell_type": "code",
   "execution_count": 1,
   "metadata": {},
   "outputs": [
    {
     "name": "stdout",
     "output_type": "stream",
     "text": [
      "96\n"
     ]
    }
   ],
   "source": [
    "# Find sum of all items in given list\n",
    "\n",
    "numbers = [100,1,-10,5]\n",
    "sum=0\n",
    "for  num in numbers:\n",
    "    sum += num\n",
    "print(sum)"
   ]
  },
  {
   "cell_type": "markdown",
   "metadata": {},
   "source": [
    "# Range\n",
    "Range(start,stop,step)"
   ]
  },
  {
   "cell_type": "code",
   "execution_count": 2,
   "metadata": {},
   "outputs": [
    {
     "name": "stdout",
     "output_type": "stream",
     "text": [
      "1\n",
      "2\n",
      "3\n",
      "4\n",
      "5\n",
      "6\n",
      "7\n",
      "8\n",
      "9\n",
      "10\n"
     ]
    }
   ],
   "source": [
    "range_of_100 = range(1,10)\n",
    "sum=0\n",
    "for i in range(1,11):   #for i=0; i<10, i++\n",
    "    print(i)\n",
    "    sum+=i"
   ]
  },
  {
   "cell_type": "markdown",
   "metadata": {},
   "source": [
    "# Inline for Loop"
   ]
  },
  {
   "cell_type": "code",
   "execution_count": 3,
   "metadata": {},
   "outputs": [
    {
     "name": "stdout",
     "output_type": "stream",
     "text": [
      "[1, 200, 3, 5, 600, 8800, 19]\n"
     ]
    }
   ],
   "source": [
    "numbers = [1,2,3,5,6,88,19]\n",
    "transformed_list = [(num *100 if num%2==0 else num) for num in numbers  ]\n",
    "print(transformed_list)\n"
   ]
  },
  {
   "cell_type": "markdown",
   "metadata": {},
   "source": [
    "# Def function_name (parameters)\n",
    "#block of code\n",
    "#return expression"
   ]
  },
  {
   "cell_type": "code",
   "execution_count": 4,
   "metadata": {},
   "outputs": [
    {
     "name": "stdout",
     "output_type": "stream",
     "text": [
      "15\n"
     ]
    }
   ],
   "source": [
    "#finding the sum of two numbers\n",
    "\n",
    "def add(x,y):\n",
    "    sum = x+y\n",
    "    return sum\n",
    "sum = add(x=5, y=10)\n",
    "print(sum)\n"
   ]
  },
  {
   "cell_type": "code",
   "execution_count": 16,
   "metadata": {},
   "outputs": [
    {
     "name": "stdout",
     "output_type": "stream",
     "text": [
      "50\n"
     ]
    }
   ],
   "source": [
    "#finding the product of two numbers\n",
    "\n",
    "def product(x,y):\n",
    "    product = x*y\n",
    "    return product\n",
    "prod = product(5,10)\n",
    "print(prod)\n"
   ]
  },
  {
   "cell_type": "code",
   "execution_count": 17,
   "metadata": {},
   "outputs": [
    {
     "name": "stdout",
     "output_type": "stream",
     "text": [
      "3\n",
      "1.0\n"
     ]
    }
   ],
   "source": [
    "# Write a function # Write a function that accepts three parameters (x, y, operation)\n",
    "# based on the operation (+, -, *, /)\n",
    "# Perform addition, subtraction, multiplication, and division\n",
    "# and then return the value of x operation y\n",
    "\n",
    "def calculate(x, y, op):\n",
    "    if op == '+':\n",
    "        return x + y\n",
    "    elif op == '-':\n",
    "        return x - y\n",
    "    elif op == '*':\n",
    "        return x * y\n",
    "    elif op == '/':\n",
    "        if y != 0:\n",
    "            return x / y\n",
    "    else:\n",
    "        return \"Invalid operation\"\n",
    "\n",
    "sum_result = calculate(1, 2, '+')\n",
    "print(sum_result)\n",
    "division = calculate(1, 1, '/')\n",
    "print(division)"
   ]
  },
  {
   "cell_type": "code",
   "execution_count": 18,
   "metadata": {},
   "outputs": [
    {
     "name": "stdout",
     "output_type": "stream",
     "text": [
      "Hello connecting to 127.0.0.1\n"
     ]
    }
   ],
   "source": [
    "#  Establishing IP connection\n",
    "\n",
    "def connect(ip=\"127.0.0.1\"):\n",
    "    print(f\"Hello connecting to {ip}\")\n",
    "connect()"
   ]
  },
  {
   "cell_type": "code",
   "execution_count": 19,
   "metadata": {},
   "outputs": [
    {
     "name": "stdout",
     "output_type": "stream",
     "text": [
      "Hello connecting to 12.12.3.4\n"
     ]
    }
   ],
   "source": [
    "# Establishing IP connection by changing it\n",
    "\n",
    "def connect(ip=\"12.12.3.4\"):\n",
    "    print(f\"Hello connecting to {ip}\")\n",
    "connect(\"12.12.3.4\")"
   ]
  },
  {
   "cell_type": "code",
   "execution_count": 20,
   "metadata": {},
   "outputs": [
    {
     "name": "stdout",
     "output_type": "stream",
     "text": [
      "Hello connecting to 12.12.3.4\n",
      "1\n"
     ]
    }
   ],
   "source": [
    "def connect(ip=\"12.12.3.4\"):\n",
    "    print(f\"Hello connecting to {ip}\")\n",
    "\n",
    "connect(\"12.12.3.4\")\n",
    "\n",
    "def sum (x=0,y=0):\n",
    "    return x+y\n",
    "\n",
    "add=sum(1)\n",
    "print(add)\n"
   ]
  },
  {
   "cell_type": "markdown",
   "metadata": {},
   "source": [
    "# Return Statement:\n",
    "\n",
    "* functions can return values after using this statement\n",
    "* if no return statement is used, the function returns None by default"
   ]
  },
  {
   "cell_type": "code",
   "execution_count": null,
   "metadata": {},
   "outputs": [],
   "source": [
    "def is_even_number (number):\n",
    "    if number % 2 == 0:\n",
    "        return \"number is even\"     #after no return code works\n",
    "    return \"number is odd\""
   ]
  },
  {
   "cell_type": "markdown",
   "metadata": {},
   "source": [
    "# Lambda Function\n",
    "* Lambda function (anonymous function) are small, single-expression functions defined by lambda keyboard\n",
    "* They are often used for short, simple operations"
   ]
  },
  {
   "cell_type": "code",
   "execution_count": null,
   "metadata": {},
   "outputs": [],
   "source": [
    "square = lambda x: x**2\n",
    "print (square(4))"
   ]
  },
  {
   "cell_type": "markdown",
   "metadata": {},
   "source": [
    "# Extra Questions"
   ]
  },
  {
   "cell_type": "code",
   "execution_count": 22,
   "metadata": {},
   "outputs": [
    {
     "name": "stdout",
     "output_type": "stream",
     "text": [
      "10 5\n",
      "10 5\n"
     ]
    }
   ],
   "source": [
    "# Write a function to swap two numbers without using a temporary variable\n",
    "\n",
    "def swap_numbers(a, b):\n",
    "    a = a + b        # Swap values\n",
    "    b = a - b\n",
    "    a = a - b\n",
    "    print(a, b)\n",
    "    return a, b\n",
    "\n",
    "a, b = swap_numbers(5, 10)\n",
    "print(a, b)"
   ]
  },
  {
   "cell_type": "code",
   "execution_count": 23,
   "metadata": {},
   "outputs": [
    {
     "name": "stdout",
     "output_type": "stream",
     "text": [
      "3\n"
     ]
    }
   ],
   "source": [
    "# Write a function to count the number of vowels in a given string\n",
    "\n",
    "def count_vowels(sentence):\n",
    "    total_vowels = 0\n",
    "    vowels = \"aeiouAEIOU\"\n",
    "    for char in sentence:\n",
    "        if char in vowels:\n",
    "            total_vowels += 1\n",
    "    return total_vowels\n",
    "\n",
    "vowel_count = count_vowels(\"Hello World\")\n",
    "print(vowel_count)"
   ]
  },
  {
   "cell_type": "code",
   "execution_count": 24,
   "metadata": {},
   "outputs": [
    {
     "name": "stdout",
     "output_type": "stream",
     "text": [
      "2\n",
      "False\n"
     ]
    }
   ],
   "source": [
    "# Write a function to check if a number is prime or not\n",
    "\n",
    "def prime(number):\n",
    "    is_prime = True\n",
    "    for i in range(2, int(number / 2) + 1):\n",
    "        print(i)             # Numbers less than or equal to 1 are not prime\n",
    "        if number % i == 0:  # Check up to the square root of the number\n",
    "            is_prime = False\n",
    "            break            # If condition matches, then loop breaks (break = early terminating loop)\n",
    "    return is_prime\n",
    "print(prime(16))"
   ]
  }
 ],
 "metadata": {
  "kernelspec": {
   "display_name": "base",
   "language": "python",
   "name": "python3"
  },
  "language_info": {
   "codemirror_mode": {
    "name": "ipython",
    "version": 3
   },
   "file_extension": ".py",
   "mimetype": "text/x-python",
   "name": "python",
   "nbconvert_exporter": "python",
   "pygments_lexer": "ipython3",
   "version": "3.12.4"
  }
 },
 "nbformat": 4,
 "nbformat_minor": 2
}
