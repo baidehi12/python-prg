{
 "cells": [
  {
   "cell_type": "markdown",
   "metadata": {},
   "source": [
    "* Baidehi Basnet \n",
    "* Presidential Graduate School\n",
    "* PRG 330: Python Programming\n",
    "* Prof. Tek Raj Pant"
   ]
  },
  {
   "cell_type": "markdown",
   "metadata": {},
   "source": [
    "Hello world"
   ]
  },
  {
   "cell_type": "code",
   "execution_count": 11,
   "metadata": {},
   "outputs": [
    {
     "name": "stdout",
     "output_type": "stream",
     "text": [
      "Hello World\n"
     ]
    }
   ],
   "source": [
    "hello = \"Hello World\"\n",
    "print (hello)\n"
   ]
  },
  {
   "cell_type": "markdown",
   "metadata": {},
   "source": [
    "\n",
    "Python Numbers"
   ]
  },
  {
   "cell_type": "code",
   "execution_count": 12,
   "metadata": {},
   "outputs": [
    {
     "name": "stdout",
     "output_type": "stream",
     "text": [
      "3.14\n"
     ]
    }
   ],
   "source": [
    "Pi=3.14\n",
    "print (Pi)\n"
   ]
  },
  {
   "cell_type": "markdown",
   "metadata": {},
   "source": [
    "Classifying variable type "
   ]
  },
  {
   "cell_type": "code",
   "execution_count": 13,
   "metadata": {},
   "outputs": [
    {
     "name": "stdout",
     "output_type": "stream",
     "text": [
      "<class 'complex'>\n"
     ]
    }
   ],
   "source": [
    "Age=30\n",
    "price=10.5\n",
    "real_imaginary=1j\n",
    "\n",
    "print (type(real_imaginary))"
   ]
  },
  {
   "cell_type": "markdown",
   "metadata": {},
   "source": [
    "Arthemetic Operators"
   ]
  },
  {
   "cell_type": "code",
   "execution_count": 14,
   "metadata": {},
   "outputs": [
    {
     "name": "stdout",
     "output_type": "stream",
     "text": [
      "0.5\n",
      "5\n"
     ]
    }
   ],
   "source": [
    "#addition\n",
    "a=5\n",
    "b=10\n",
    "sum_of_ab=a+b\n",
    "#substraction\n",
    "diff_of_ab=a-b\n",
    "#multiplication\n",
    "product_of_ab=a*b\n",
    "#divison\n",
    "div_of_ab=a/b\n",
    "print (div_of_ab)\n",
    "#modulus\n",
    "rem_a_b = a%b\n",
    "print (rem_a_b)\n",
    "#power\n",
    "total_ram_size=2**16"
   ]
  },
  {
   "cell_type": "markdown",
   "metadata": {},
   "source": [
    "Strings in Python"
   ]
  },
  {
   "cell_type": "code",
   "execution_count": 20,
   "metadata": {},
   "outputs": [
    {
     "name": "stdout",
     "output_type": "stream",
     "text": [
      "Baidehi Basnet\n",
      "14\n",
      "B\n",
      "e\n",
      "t\n",
      "first last name Baideh Basnet\n"
     ]
    }
   ],
   "source": [
    "name=\"Baidehi Basnet\"\n",
    "print(name)\n",
    "\n",
    "#lenghth of strings\n",
    "total_no_of_chara =len(name)\n",
    "print (total_no_of_chara)\n",
    "\n",
    "#get first character\n",
    "first_char= name[0]\n",
    "print(first_char)\n",
    "\n",
    "#get fifth character\n",
    "fifth_char= name[4]\n",
    "print(fifth_char)\n",
    "\n",
    "#gat last character\n",
    "last_char= name[len(name)-1]\n",
    "print(last_char)\n",
    "\n",
    "#Sub strings\n",
    "first_name = name [0:6]\n",
    "last_name = name [8:14]\n",
    "print (\"first last name\", first_name, last_name)"
   ]
  },
  {
   "cell_type": "code",
   "execution_count": 30,
   "metadata": {},
   "outputs": [
    {
     "name": "stdout",
     "output_type": "stream",
     "text": [
      "Susman  Raj  Shrestha\n"
     ]
    }
   ],
   "source": [
    "name = \"Susman Raj Shrestha\"\n",
    "first_name = name [:6]\n",
    "middle_name = name [6:10]\n",
    "last_name = name[10:]\n",
    "print (first_name,middle_name,last_name)"
   ]
  },
  {
   "cell_type": "markdown",
   "metadata": {},
   "source": [
    "Conditional Statement\n",
    "if, else, elif"
   ]
  },
  {
   "cell_type": "code",
   "execution_count": 4,
   "metadata": {},
   "outputs": [
    {
     "name": "stdout",
     "output_type": "stream",
     "text": [
      "Its week day\n",
      "test\n"
     ]
    }
   ],
   "source": [
    "day = int(input('enter day'))\n",
    "if day==4:\n",
    "    print(\"I have to wake up at 5AM\")\n",
    "    print(\"I have to go to Office\")\n",
    "    print(\"Its Wednesday\")\n",
    "elif day==5:\n",
    "    print(\"Its week day\")\n",
    "else:\n",
    "    print(\"Its weekend\")\n",
    "print('test')"
   ]
  },
  {
   "cell_type": "code",
   "execution_count": 5,
   "metadata": {},
   "outputs": [
    {
     "name": "stdout",
     "output_type": "stream",
     "text": [
      "Given number is odd\n"
     ]
    }
   ],
   "source": [
    "#To find out Even/Odd numbers\n",
    "\n",
    "Number = int(input('enter a number'))\n",
    "if Number % 2 == 0:\n",
    "    print (\"Given number is even.\")\n",
    "else:\n",
    "    print ('Given number is odd')\n",
    "\n"
   ]
  },
  {
   "cell_type": "code",
   "execution_count": 8,
   "metadata": {},
   "outputs": [
    {
     "name": "stdout",
     "output_type": "stream",
     "text": [
      "Python class\n"
     ]
    }
   ],
   "source": [
    "#if time is\n",
    "#in between 10-12 print its time for python\n",
    "#in between 12-14 \"DSA\"\n",
    "#14-16 \"English\"\n",
    "# default \"getting ready\"\n",
    "\n",
    "Time = int(input(\"enter time frame\"))\n",
    "if Time>=10 and Time<=12:\n",
    "    print (\"Python class\")\n",
    "elif Time>=12 and Time<=14:\n",
    "    print (\"DSA class\")\n",
    "elif Time>=14 and Time<=16:\n",
    "    print (\"English class\")\n",
    "else:\n",
    "    print (\"Getting ready\")\n"
   ]
  },
  {
   "cell_type": "code",
   "execution_count": 13,
   "metadata": {},
   "outputs": [
    {
     "name": "stdout",
     "output_type": "stream",
     "text": [
      "Ticket for cablecar is Rs.100\n"
     ]
    }
   ],
   "source": [
    "# If you are from \"Nepal\" or \"India\" ticket for cable car is 50 else 100\n",
    "\n",
    "Nationality=input(\"Enter your nationality\")                \n",
    "if Nationality.lower()==\"nepal\" or Nationality==\"india\":   #.lower and .upper changes the entire input to lowercase or uppercse\n",
    "    print(\"Ticket for cablecar is Rs.50\")\n",
    "else:\n",
    "    print(\"Ticket for cablecar is Rs.100\") "
   ]
  },
  {
   "cell_type": "markdown",
   "metadata": {},
   "source": [
    "LOOPS (iteration)"
   ]
  },
  {
   "cell_type": "markdown",
   "metadata": {},
   "source": [
    "While Loop"
   ]
  },
  {
   "cell_type": "code",
   "execution_count": 21,
   "metadata": {},
   "outputs": [
    {
     "name": "stdout",
     "output_type": "stream",
     "text": [
      "Hello\n",
      "0\n",
      "Hello\n",
      "1\n",
      "Hello\n",
      "2\n",
      "Hello\n",
      "3\n",
      "Hello\n",
      "4\n",
      "Hello\n",
      "5\n",
      "Hello\n",
      "6\n",
      "Hello\n",
      "7\n",
      "Hello\n",
      "8\n",
      "Hello\n",
      "9\n"
     ]
    }
   ],
   "source": [
    "#Original Order\n",
    "from time import sleep\n",
    "counter = 0\n",
    "while counter<10:\n",
    "    print (\"Hello\")                 # print (f\"hello {counter}\") f \n",
    "    print (counter)                 # Sleep is used to delay the input by 1 second\n",
    "    counter +=1\n",
    "    sleep (1)"
   ]
  },
  {
   "cell_type": "code",
   "execution_count": 20,
   "metadata": {},
   "outputs": [
    {
     "name": "stdout",
     "output_type": "stream",
     "text": [
      "Hello10\n",
      "Hello9\n",
      "Hello8\n",
      "Hello7\n",
      "Hello6\n",
      "Hello5\n",
      "Hello4\n",
      "Hello3\n",
      "Hello2\n",
      "Hello1\n"
     ]
    }
   ],
   "source": [
    "#Reverse Order\n",
    "from time import sleep\n",
    "counter = 10\n",
    "while counter>0:\n",
    "    print (\"Hello\" + str(counter))                 \n",
    "    counter -=1\n",
    "    sleep (1)"
   ]
  },
  {
   "cell_type": "code",
   "execution_count": 27,
   "metadata": {},
   "outputs": [
    {
     "name": "stdout",
     "output_type": "stream",
     "text": [
      "5050\n"
     ]
    }
   ],
   "source": [
    "#Find the sum of first n=100 natural numbers\n",
    "\n",
    "n=100\n",
    "counter = 1\n",
    "sum = 0\n",
    "while counter<=n:\n",
    "    sum += counter\n",
    "    counter+=1\n",
    "print(sum)\n"
   ]
  },
  {
   "cell_type": "code",
   "execution_count": 30,
   "metadata": {},
   "outputs": [
    {
     "name": "stdout",
     "output_type": "stream",
     "text": [
      "110\n"
     ]
    }
   ],
   "source": [
    "#Find the sum of first n natural even numbers\n",
    "\n",
    "n=20\n",
    "counter=0\n",
    "sum=0\n",
    "while counter<=n:\n",
    "    if counter%2 == 0:\n",
    "        sum += counter\n",
    "    counter +=1\n",
    "print(sum)"
   ]
  },
  {
   "cell_type": "code",
   "execution_count": 36,
   "metadata": {},
   "outputs": [
    {
     "name": "stdout",
     "output_type": "stream",
     "text": [
      "14\n",
      "lapeN udnamhtaK\n"
     ]
    }
   ],
   "source": [
    "#Reverse the given string address=\"Kathmandu Nepal\"\n",
    "\n",
    "address=\"Kathmandu Nepal\"\n",
    "length=len(address)-1\n",
    "reversed_string=''\n",
    "print(length)\n",
    "while length>=0:\n",
    "    reversed_string=reversed_string + address[length]\n",
    "    length-=1\n",
    "print(reversed_string)"
   ]
  },
  {
   "cell_type": "markdown",
   "metadata": {},
   "source": [
    "PYTHON LIST\n"
   ]
  },
  {
   "cell_type": "code",
   "execution_count": 1,
   "metadata": {},
   "outputs": [
    {
     "name": "stdout",
     "output_type": "stream",
     "text": [
      "1\n",
      "7\n",
      "5\n"
     ]
    }
   ],
   "source": [
    "#List is ordered collection of items\n",
    "#Program for listing for numbers\n",
    "\n",
    "numbers = [1,2,3,4,5,5,5]\n",
    "studnets = ['Ram','Hari']\n",
    "#access elements from list\n",
    "first_number = numbers[0]\n",
    "print(first_number)\n",
    "# count total number of items \n",
    "total_items = len(numbers)\n",
    "print(total_items)\n",
    "# last element\n",
    "last_element = numbers[total_items-1] #-1 is used to indicate index\n",
    "print(last_element)\n"
   ]
  },
  {
   "cell_type": "markdown",
   "metadata": {},
   "source": [
    "LIST METHOD: Append, pop, remove, insert, count, extend, clear"
   ]
  },
  {
   "cell_type": "code",
   "execution_count": 4,
   "metadata": {},
   "outputs": [
    {
     "name": "stdout",
     "output_type": "stream",
     "text": [
      "[1, 4, 3, 5, 6, 7, 1, 1]\n",
      "[1, 4, 3, 5, 6, 7, 1, 1, 8]\n",
      "[1, 4, 3, 5, 6, 7, 1, 1]\n",
      "[1, 4, 3, 6, 7, 1, 1]\n",
      "[1, 4, 18, 3, 6, 7, 1, 1]\n",
      "3\n",
      "[1, 2, 3, 4]\n",
      "[]\n"
     ]
    }
   ],
   "source": [
    "numbers = [1,4,3,5,6,7,1,1]\n",
    "print (numbers)\n",
    "#append item\n",
    "numbers.append(8)\n",
    "print(numbers)\n",
    "#remove last item\n",
    "numbers.pop()\n",
    "print(numbers)\n",
    "#remove\n",
    "numbers.remove(5)\n",
    "print(numbers)\n",
    "# insert\n",
    "numbers.insert(2,18)\n",
    "print (numbers)\n",
    "# count\n",
    "print (numbers.count(1))\n",
    "# extend\n",
    "numbers_1 = [1,2]\n",
    "numbers_2 = [3,4]\n",
    "numbers_1.extend(numbers_2)\n",
    "print(numbers_1)\n",
    "#Clear\n",
    "numbers_1.clear()\n",
    "print(numbers_1)\n"
   ]
  },
  {
   "cell_type": "code",
   "execution_count": null,
   "metadata": {},
   "outputs": [],
   "source": [
    "# \n",
    "a = 5\n",
    "b = a                     #Deep copy: Copies all the values in the memory or copy by value\n",
    "a = a+1\n",
    "print (a,b)\n",
    "\n",
    "#\n",
    "a = ['Ram','Hari']          \n",
    "b = a.copy()               #Shallow copy: Does not copy all the values in memory or copy by reference\n",
    "a.append('Gopal')\n",
    "print (b)\n",
    "#check value exist in list\n",
    "if 'Ram' in a:\n",
    "    print ('Ram exists in a')\n"
   ]
  },
  {
   "cell_type": "markdown",
   "metadata": {},
   "source": [
    "Loop through List (iterate over list)\n"
   ]
  },
  {
   "cell_type": "code",
   "execution_count": 5,
   "metadata": {},
   "outputs": [
    {
     "name": "stdout",
     "output_type": "stream",
     "text": [
      "1\n",
      "2\n",
      "3\n",
      "4\n",
      "5\n",
      "6\n",
      "6\n",
      "27\n"
     ]
    }
   ],
   "source": [
    "# find the sum of all the items given list and list them\n",
    "numbers = [1,2,3,4,5,6,6]\n",
    "total_items = len(numbers)\n",
    "index = 0\n",
    "sum = 0\n",
    "while index<total_items:\n",
    "    element = numbers[index]\n",
    "    sum += element \n",
    "    print (element)\n",
    "    index+=1\n",
    "print (sum)"
   ]
  },
  {
   "cell_type": "code",
   "execution_count": 6,
   "metadata": {},
   "outputs": [
    {
     "name": "stdout",
     "output_type": "stream",
     "text": [
      "27\n"
     ]
    }
   ],
   "source": [
    "# finds only sum without list\n",
    "numbers = [1,2,3,4,5,6,6]\n",
    "total_items = len(numbers)\n",
    "index = 0\n",
    "sum = 0\n",
    "while index<total_items:\n",
    "    element = numbers[index]\n",
    "    sum += element\n",
    "    index +=1\n",
    "print(sum)"
   ]
  },
  {
   "cell_type": "code",
   "execution_count": 9,
   "metadata": {},
   "outputs": [
    {
     "name": "stdout",
     "output_type": "stream",
     "text": [
      "Max value is 6\n"
     ]
    }
   ],
   "source": [
    "# find the max value from the given list\n",
    "numbers = [1,2,3,4,5,6,6]\n",
    "total_items = len(numbers)\n",
    "index = 0\n",
    "max_value = numbers[0]\n",
    "while index<total_items:\n",
    "    if element>max_value:\n",
    "        max_value = numbers[index]\n",
    "    index+=1\n",
    "print (\"Max value is\", max_value)"
   ]
  },
  {
   "cell_type": "markdown",
   "metadata": {},
   "source": [
    "Filter values"
   ]
  },
  {
   "cell_type": "code",
   "execution_count": 10,
   "metadata": {},
   "outputs": [
    {
     "name": "stdout",
     "output_type": "stream",
     "text": [
      "['Hari', 'Gopal']\n"
     ]
    }
   ],
   "source": [
    "students = ['Ram','Hari', 'Gopal']\n",
    "filtered_studnets = [student for student in students if student !='Ram']\n",
    "print (filtered_studnets)"
   ]
  },
  {
   "cell_type": "code",
   "execution_count": 12,
   "metadata": {},
   "outputs": [
    {
     "name": "stdout",
     "output_type": "stream",
     "text": [
      "[2, 4, 6, 6]\n"
     ]
    }
   ],
   "source": [
    "# From a list of number, create a list of only even numbers\n",
    "\n",
    "nummbers = [1,3,2,4,5,7,11,9,8]\n",
    "even_numbers = [number for number in numbers if number %2==0]\n",
    "print (even_numbers)"
   ]
  }
 ],
 "metadata": {
  "kernelspec": {
   "display_name": "base",
   "language": "python",
   "name": "python3"
  },
  "language_info": {
   "codemirror_mode": {
    "name": "ipython",
    "version": 3
   },
   "file_extension": ".py",
   "mimetype": "text/x-python",
   "name": "python",
   "nbconvert_exporter": "python",
   "pygments_lexer": "ipython3",
   "version": "3.12.4"
  }
 },
 "nbformat": 4,
 "nbformat_minor": 2
}
